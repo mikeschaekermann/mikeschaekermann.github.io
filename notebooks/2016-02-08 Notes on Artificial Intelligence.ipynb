{
 "cells": [
  {
   "cell_type": "markdown",
   "metadata": {},
   "source": [
    "These notes are a result of my preparation for a midterm exam in [Kate Larson](https://cs.uwaterloo.ca/~klarson/)'s introductory [course on Artificial Intelligence](https://cs.uwaterloo.ca/~klarson/teaching/W16-486/) at University of Waterloo in the winter 2016 term. **This post is currently a work in progress (as of February 8th, 2016).**"
   ]
  },
  {
   "cell_type": "markdown",
   "metadata": {},
   "source": [
    "## Introduction\n",
    "\n",
    "**Definition dimensions**:\n",
    "\n",
    "||Reasoning|Behavior|\n",
    "|---|---|---|\n",
    "|**Human-like**|Thinking like a human|Acting like a human|\n",
    "|**Rational**|Thinking rationally|Acting rationally (course focuses on this field)|\n",
    "\n",
    "**Rational agents**:\n",
    "\n",
    "* Agent: entity that perceives and acts\n",
    "* Rationality: acting optimally towards a specific goal in a given environment\n",
    "* Task environment: performance measure, environment, sensors and actuators\n",
    "\n",
    "**Properties of the Task Environment**:\n",
    "\n",
    "* Fully observable vs Partially observable\n",
    "* Deterministic vs Stochastic\n",
    "* Episodic vs Dynamic\n",
    "* Discrete vs Continous\n",
    "* Single agent vs Multi agent"
   ]
  },
  {
   "cell_type": "markdown",
   "metadata": {},
   "source": [
    "## Search\n",
    "\n",
    "**Task environment**:\n",
    "\n",
    "* Fully observable\n",
    "* Deterministic\n",
    "* Episodic\n",
    "* Discrete\n",
    "* Single Agent"
   ]
  },
  {
   "cell_type": "markdown",
   "metadata": {},
   "source": [
    "## Uninformed Search\n",
    "\n",
    "**Techniques**:\n",
    "\n",
    "||Depth First|Breadh First|Iterative Deepening|Uniform Cost|\n",
    "|---|---|---|---|---|\n",
    "|**acronym**|DFS|BFS|IDS|UCS|\n",
    "|**dequeuing method**|LIFO|FIFO|alternating LIFO and FIFO|minimal backward cost of path|\n",
    "|**complete?**|no|yes|yes|if all $\\epsilon > 0$ and $C^*<\\infty$|\n",
    "|**optimal?**|no|for ident. cost|for ident. cost|yes|\n",
    "|**time complexity**|$O(b^m)$|$O(b^d)$|$O(b^d)$|$O(b^{C^*/\\epsilon})$|\n",
    "|**space complexity**|$O(bm)$|$O(b^d)$|$O(bd)$|$O(b^{C^*/\\epsilon})$|\n",
    "\n",
    "**Variables**:\n",
    "\n",
    "* $b$: branching factor of search tree\n",
    "* $m$: maximum depth of search tree\n",
    "* $d$: depth of shallowest goal node\n",
    "* $C^*$: cheapest solution cost\n",
    "* $\\epsilon$: minimum edge cost\n",
    "\n",
    "**Helper technique**:\n",
    "\n",
    "If the state space graph is cyclic the search tree will be infinite. In this case, a “closed list” may be used to keep track of nodes which have already been expanded in order to avoid infinite traversals of cyclic structures"
   ]
  },
  {
   "cell_type": "markdown",
   "metadata": {},
   "source": [
    "## Informed Search\n",
    "\n",
    "**Heuristic function**: function $h(n)$ that estimates the cost of reaching a goal from a given state (requirement: $h(n_{goal})=0$)\n",
    "\n",
    "**Admissibility**: a heuristic is admissible if $0 \\leq h(n) \\leq h'(n)$ where $h'(n)$ is the true shortest path from node $n$ to one of the goal states\n",
    "\n",
    "**Consistency**: a heuristic is consistent if $h(n) \\leq cost(n,n')+h(n')$\n",
    "\n",
    "**Backward cost**: function $g(n)$ that tells how expensive it was to reach node $n$ from the start node\n",
    "\n",
    "**Estimate of cost of entire path**: function $f(n)=g(n)+h(n)$\n",
    "\n",
    "**Greedy Best First Search**: expand the most promising node according to the heuristic only; only complete when used with a closed-list\n",
    "\n",
    "**Techniques**:\n",
    "\n",
    "||Greedy Best First|A*|Iterative Deepening A*|Simplified Memory-bounded A*|\n",
    "|---|---|---|---|---|\n",
    "|**acronym**|GBFS|A*|IDA*|SMA*|\n",
    "|**dequeuing method**|minimal $h(n)$|minimal $f(n)$|minimal $f(n)$ with f-limit|see A*|\n",
    "|**complete?**|no|yes|see A*|if memory needed for path to shallowest goal node $\\leq$ memory size|\n",
    "|**optimal?**|no|only for graph-search and a consistent $h(n)$|see A*|see above|\n",
    "|**time complexity**|$O(b^m)$|$O(b^m)$|see A*|see A*|\n",
    "|**space complexity**|$O(b^m)$|$O(b^m)$|less than A*|will drop nodes from memory if it runs out of memory|"
   ]
  },
  {
   "cell_type": "markdown",
   "metadata": {},
   "source": [
    "## Constraint Satisfaction Problems\n",
    "\n",
    "A special subset of search problems where:\n",
    "\n",
    "* **States** are defined by (continuous or discrete) **variables** $X_i$ with values from (finite or infinite) **domains** $D_i$\n",
    "* **Goal test** is a set of (unary, binary, higher-order or soft) **constraints** specifying allowable combinations of values for subsets of variables\n",
    "* **Commutativity** is in place, i.e., the order of actions taken does not effect the outcome; variables can be assigned in any order\n",
    "\n",
    "**Formal abstraction** as a search problem:\n",
    "\n",
    "* **States**: partial assignments of values to variables\n",
    "* **Initial State**: empty assignment $\\{\\}$\n",
    "* **Successor Function**: assign a value to an unassigned variable\n",
    "* **Goal Test**: the current assignment is complete and satisfies all constraints\n",
    "\n",
    "**Backtracking**:\n",
    "\n",
    "* Select unassigned variable $X$ and try out first valid assignment $x_i$\n",
    "* If a valid assignment is found move to next variable\n",
    "* If no valid assignment is found back up and try a different assignment for $X$\n",
    "\n",
    "**Improvements** to backtracking using:\n",
    "\n",
    "* **Ordering**:\n",
    "  * **Most Constrained Variable**: choose the variable which has the fewest legal moves\n",
    "  * **Most Constraining Variable**: choose variable with most constraints on unassigned variables (tie-breaker for most constrained variable)\n",
    "  * **Least Constraining Value**: given a variable, choose the value that rules out the fewest values in unassigned variables\n",
    "* **Filtering**:\n",
    "  * **Forward Checking**: keep track of remaining legal values for unassigned variables and terminate search if any variable has no legal values\n",
    "  * **Arc Consistency**: given two domains $D_1$ and $D_2$, an arc is consistent if, for all $x$ in $D_1$, there is a $y$ in $D_2$ such that $x$ and $y$ are consistent\n",
    "* **Structure**:\n",
    "  * **Independent Subproblems**: break down constraint graph into connected components and solve them separately; can reduce time complexity from $O(d^n)$ to $O(d^c n/c)$ where $d$ is the domain size, $n$ is the total number of variables and $c$ is the average number of variables per component\n",
    "  * **Tree Structures**: perform topological sort; back to front: make consistent from children to parents; front to back: assign values consistent with parent; time complexity is $O(nd^2)$\n",
    "  * **Cutsets**: choose a subset $S$ of variables such that the constraint graph becomes a tree when $S$ is removed ($S$ is the cycle subset); for each possible valid assignment to the variables of $S$: remove from the domains of remaining variables all values that are inconsistent with $S$; if the remaining CSP has a solution, return it; time complexity is $O(d^c(n-c)d^2)$ where $c$ is the size of the cutset\n",
    "  * **Tree Decomposition**: decompose graph into subproblems that constitute a tree structure; solve each subproblem independently; solve constraints connecting the subproblems using the tree-based algorithm; time complexity is $O(nd^w)$ where $w$ is the size of the largest subproblem"
   ]
  },
  {
   "cell_type": "markdown",
   "metadata": {},
   "source": [
    "## Local Search\n",
    "\n",
    "For many problems, the search path is unimportant. Instead, oftentimes it is simply important to find a viable/good comnbinatorial solution without knowing the path to get there.\n",
    "\n",
    "**Iterative Improvement**\n",
    "\n",
    "* **Approach**:\n",
    "  * Start at some random point\n",
    "  * Generate all possible points to move to (i.e., the moveset)\n",
    "  * If the set is empty, restart\n",
    "  * If the set is not empty, choose point from it and move to it\n",
    "* **Methods**:\n",
    "  * **Hill Climbing / Gradient Descent**\n",
    "    * **Idea**: always take a step in the direction that improves the current solution value the most\n",
    "    * **Pros:**\n",
    "      * straightforward implementation\n",
    "      * low memory consumption\n",
    "    * **Cons**:\n",
    "      * not complete\n",
    "      * not optimal (can get stuck in local optima/plateaus)\n",
    "    * **Modifications**:\n",
    "      * allow sideway moves to escape plateaus\n",
    "      * random restarts to escape local optima\n",
    "      * random selection of next move, but only take the step if it improves the solution\n",
    "      * allow bad moves to escape local optima (see simulated annealing)\n",
    "  * **Simulated Annealing**\n",
    "    * **Idea**:\n",
    "      * choose random move from moveset\n",
    "      * if it improves the solution make the move\n",
    "      * if not (bad move) take it anyways with probability $p$\n",
    "      * $p=\\frac{V(S_i)-V(S)}{T}$ (Boltzmann distribution)\n",
    "      * $T$ is a temperature parameter which will decrease over time:\n",
    "        * exploration phase when $T$ is high (random walk)\n",
    "        * exploitation phase when $T$ is low (randomized hill climbing)\n",
    "    * **Properties**:\n",
    "      * optimal if $T$ decreases slowly enough\n",
    "\n",
    "**Genetic Algorithms**\n",
    "\n",
    "* **Idea**: simluation of natural evolutionary processes to approach a global optimum\n",
    "* **Requirements**:\n",
    "  * **Encoding representation** of individuals (normally a bitstring)\n",
    "  * **Fitness function** to evaluate the quality of an individual\n",
    "  * **Operations**:\n",
    "    * **Selection**: selection of candidates for reproduction may be...\n",
    "      * fitness-proportionate (can lead to overcrowding)\n",
    "      * tournament-based (select two individuals at random and, with constant probability, choose the fitter one)\n",
    "      * rank-based\n",
    "      * softmax-based\n",
    "    * **Crossover**\n",
    "    * **Mutation** (normally done with a low probability)\n",
    "* **Algorithm**:\n",
    "  * Initialize population randomly\n",
    "  * Compute fitness for each individual\n",
    "  * $N$ times do:\n",
    "    * Select two parents\n",
    "    * Crossover the parents to create new child\n",
    "    * With low probability, mutate child\n",
    "    * Add child to population\n",
    "  * Return \"fittest\" individual in population"
   ]
  },
  {
   "cell_type": "markdown",
   "metadata": {},
   "source": [
    "## Planning"
   ]
  },
  {
   "cell_type": "markdown",
   "metadata": {},
   "source": [
    "## Adversarial Search"
   ]
  },
  {
   "cell_type": "markdown",
   "metadata": {},
   "source": [
    "## Decision Making"
   ]
  },
  {
   "cell_type": "markdown",
   "metadata": {},
   "source": [
    "## Markov Decision Processes"
   ]
  },
  {
   "cell_type": "markdown",
   "metadata": {},
   "source": [
    "## Reinforcement Learning"
   ]
  }
 ],
 "metadata": {
  "kernelspec": {
   "display_name": "Python 2",
   "language": "python",
   "name": "python2"
  },
  "language_info": {
   "codemirror_mode": {
    "name": "ipython",
    "version": 2
   },
   "file_extension": ".py",
   "mimetype": "text/x-python",
   "name": "python",
   "nbconvert_exporter": "python",
   "pygments_lexer": "ipython2",
   "version": "2.7.11"
  }
 },
 "nbformat": 4,
 "nbformat_minor": 0
}
